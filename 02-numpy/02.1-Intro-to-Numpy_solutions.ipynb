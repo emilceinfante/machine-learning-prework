{
 "cells": [
  {
   "cell_type": "code",
   "execution_count": 1,
   "id": "9595a542",
   "metadata": {},
   "outputs": [],
   "source": [
    "import numpy as np\n",
    "\n",
    "np.random.seed(42)"
   ]
  },
  {
   "cell_type": "markdown",
   "id": "e3c20b3d",
   "metadata": {},
   "source": [
    "#### Exercise 01"
   ]
  },
  {
   "cell_type": "code",
   "execution_count": 2,
   "id": "8a758bcf",
   "metadata": {},
   "outputs": [
    {
     "data": {
      "text/plain": [
       "array([0., 0., 0., 0., 0., 0., 0., 0., 0., 0.])"
      ]
     },
     "execution_count": 2,
     "metadata": {},
     "output_type": "execute_result"
    }
   ],
   "source": [
    "np.zeros(10)"
   ]
  },
  {
   "cell_type": "markdown",
   "id": "6cbe7954",
   "metadata": {},
   "source": [
    "#### Exercise 02"
   ]
  },
  {
   "cell_type": "code",
   "execution_count": 3,
   "id": "86477874",
   "metadata": {},
   "outputs": [
    {
     "data": {
      "text/plain": [
       "array([1., 1., 1., 1., 1., 1., 1., 1., 1., 1.])"
      ]
     },
     "execution_count": 3,
     "metadata": {},
     "output_type": "execute_result"
    }
   ],
   "source": [
    "np.ones(10)"
   ]
  },
  {
   "cell_type": "markdown",
   "id": "0a708990",
   "metadata": {},
   "source": [
    "#### Exercise 03"
   ]
  },
  {
   "cell_type": "code",
   "execution_count": 4,
   "id": "477e01f4",
   "metadata": {},
   "outputs": [
    {
     "data": {
      "text/plain": [
       "array([ 1.,  2.,  3.,  4.,  5.,  6.,  7.,  8.,  9., 10.])"
      ]
     },
     "execution_count": 4,
     "metadata": {},
     "output_type": "execute_result"
    }
   ],
   "source": [
    "# Create an array of 10 elements with numbers from 1 to 10\n",
    "\n",
    "np.linspace(1, 10, 10)"
   ]
  },
  {
   "cell_type": "markdown",
   "id": "3392bae3",
   "metadata": {},
   "source": [
    "#### Exercise 04"
   ]
  },
  {
   "cell_type": "code",
   "execution_count": 5,
   "id": "279976a2",
   "metadata": {},
   "outputs": [
    {
     "data": {
      "text/plain": [
       "array([0.37454012, 0.95071431, 0.73199394, 0.59865848, 0.15601864,\n",
       "       0.15599452, 0.05808361, 0.86617615, 0.60111501, 0.70807258])"
      ]
     },
     "execution_count": 5,
     "metadata": {},
     "output_type": "execute_result"
    }
   ],
   "source": [
    "# np.random.rand: Random numbers from 0 to 1\n",
    "\n",
    "np.random.rand(10)"
   ]
  },
  {
   "cell_type": "code",
   "execution_count": 6,
   "id": "ec89b36f",
   "metadata": {},
   "outputs": [
    {
     "data": {
      "text/plain": [
       "array([[-0.46947439,  0.54256004, -0.46341769, -0.46572975,  0.24196227],\n",
       "       [-1.91328024, -1.72491783, -0.56228753, -1.01283112,  0.31424733],\n",
       "       [-0.90802408, -1.4123037 ,  1.46564877, -0.2257763 ,  0.0675282 ],\n",
       "       [-1.42474819, -0.54438272,  0.11092259, -1.15099358,  0.37569802],\n",
       "       [-0.60063869, -0.29169375, -0.60170661,  1.85227818, -0.01349722]])"
      ]
     },
     "execution_count": 6,
     "metadata": {},
     "output_type": "execute_result"
    }
   ],
   "source": [
    "# np.random.randn: Random numbers from a Normal distribution which have mean = 0 and std = 1\n",
    "\n",
    "np.random.randn(5, 5)"
   ]
  },
  {
   "cell_type": "code",
   "execution_count": 7,
   "id": "f5c1db03",
   "metadata": {},
   "outputs": [
    {
     "data": {
      "text/plain": [
       "array([[3, 1, 4, 2, 8],\n",
       "       [4, 2, 6, 6, 4]])"
      ]
     },
     "execution_count": 7,
     "metadata": {},
     "output_type": "execute_result"
    }
   ],
   "source": [
    "# np.random.randint: Random numbers from given numbers (from included and to not included)\n",
    "\n",
    "np.random.randint(1, 10, size = (2, 5))"
   ]
  },
  {
   "cell_type": "markdown",
   "id": "87930873",
   "metadata": {},
   "source": [
    "#### Exercise 05"
   ]
  },
  {
   "cell_type": "code",
   "execution_count": 8,
   "id": "2088bc15",
   "metadata": {},
   "outputs": [
    {
     "data": {
      "text/plain": [
       "array([[1., 0., 0., 0., 0.],\n",
       "       [0., 1., 0., 0., 0.],\n",
       "       [0., 0., 1., 0., 0.],\n",
       "       [0., 0., 0., 1., 0.],\n",
       "       [0., 0., 0., 0., 1.]])"
      ]
     },
     "execution_count": 8,
     "metadata": {},
     "output_type": "execute_result"
    }
   ],
   "source": [
    "np.eye(5)"
   ]
  },
  {
   "cell_type": "markdown",
   "id": "d787ca6c",
   "metadata": {},
   "source": [
    "#### Exercise 06"
   ]
  },
  {
   "cell_type": "code",
   "execution_count": 9,
   "id": "f29a7fe1",
   "metadata": {},
   "outputs": [
    {
     "name": "stdout",
     "output_type": "stream",
     "text": [
      "[[0.18485446 0.96958463]\n",
      " [0.77513282 0.93949894]\n",
      " [0.89482735 0.59789998]]\n",
      "Min value: 0.18485445552552704 \n",
      "Max value: 0.9695846277645586\n"
     ]
    }
   ],
   "source": [
    "matrix = np.random.rand(3, 2)\n",
    "print(matrix)\n",
    "\n",
    "min_value = np.min(matrix)\n",
    "max_value = np.max(matrix)\n",
    "print(f\"Min value: {min_value} \\nMax value: {max_value}\")\n",
    "\n",
    "# Another way: matrix.min(), matrix.max()"
   ]
  },
  {
   "cell_type": "markdown",
   "id": "0beb8393",
   "metadata": {},
   "source": [
    "#### Exercise 07"
   ]
  },
  {
   "cell_type": "code",
   "execution_count": 10,
   "id": "ac448c8a",
   "metadata": {},
   "outputs": [
    {
     "name": "stdout",
     "output_type": "stream",
     "text": [
      "[12 11 12 10 11  8  5 10 12  9 12  9  6 11  9 12  6  5  8  8  8  9  5  9\n",
      " 11  9  5  5 11  5]\n",
      "Mean value: 8.766666666666667\n"
     ]
    }
   ],
   "source": [
    "array = np.random.randint(5, 13, size = 30)\n",
    "print(array)\n",
    "\n",
    "mean_value = np.mean(array)\n",
    "print(f\"Mean value: {mean_value}\")\n",
    "\n",
    "# Another way: array.mean()"
   ]
  },
  {
   "cell_type": "markdown",
   "id": "359bb8bc",
   "metadata": {},
   "source": [
    "#### Exercise 08"
   ]
  },
  {
   "cell_type": "code",
   "execution_count": 11,
   "id": "ea12b52f",
   "metadata": {},
   "outputs": [
    {
     "data": {
      "text/plain": [
       "array([1, 2, 3])"
      ]
     },
     "execution_count": 11,
     "metadata": {},
     "output_type": "execute_result"
    }
   ],
   "source": [
    "l = [1, 2, 3]\n",
    "array = np.asarray(l)\n",
    "array\n",
    "\n",
    "# Another way: np.array(l)"
   ]
  },
  {
   "cell_type": "code",
   "execution_count": 12,
   "id": "bfaaac89",
   "metadata": {},
   "outputs": [
    {
     "data": {
      "text/plain": [
       "array([1, 2, 3])"
      ]
     },
     "execution_count": 12,
     "metadata": {},
     "output_type": "execute_result"
    }
   ],
   "source": [
    "t = (1, 2, 3)\n",
    "array = np.asarray(t)\n",
    "array\n",
    "\n",
    "# Another way: np.array(t)"
   ]
  },
  {
   "cell_type": "markdown",
   "id": "0e12019b",
   "metadata": {},
   "source": [
    "#### Exercise 09"
   ]
  },
  {
   "cell_type": "code",
   "execution_count": 13,
   "id": "dd1148f4",
   "metadata": {},
   "outputs": [
    {
     "data": {
      "text/plain": [
       "array([3, 2, 1])"
      ]
     },
     "execution_count": 13,
     "metadata": {},
     "output_type": "execute_result"
    }
   ],
   "source": [
    "np.flip(array)\n",
    "\n",
    "# Another way: array[::-1]"
   ]
  },
  {
   "cell_type": "markdown",
   "id": "9d6dbb21",
   "metadata": {},
   "source": [
    "#### Exercise 10"
   ]
  },
  {
   "cell_type": "code",
   "execution_count": 14,
   "id": "067d704b",
   "metadata": {},
   "outputs": [
    {
     "data": {
      "text/plain": [
       "array([[-1.05771093, -0.676922  ,  0.61167629,  1.03099952,  0.93128012,\n",
       "        -0.83921752, -0.30921238,  0.33126343,  0.97554513, -0.47917424,\n",
       "        -0.18565898, -1.10633497],\n",
       "       [-1.19620662,  0.81252582,  1.35624003, -0.07201012,  1.0035329 ,\n",
       "         0.36163603, -0.64511975,  0.36139561,  1.53803657, -0.03582604,\n",
       "         1.56464366, -2.6197451 ],\n",
       "       [ 0.8219025 ,  0.08704707, -0.29900735,  0.09176078, -1.98756891,\n",
       "        -0.21967189,  0.35711257,  1.47789404, -0.51827022, -0.8084936 ,\n",
       "        -0.50175704,  0.91540212],\n",
       "       [ 0.32875111, -0.5297602 ,  0.51326743,  0.09707755,  0.96864499,\n",
       "        -0.70205309, -0.32766215, -0.39210815, -1.46351495,  0.29612028,\n",
       "         0.26105527,  0.00511346],\n",
       "       [-0.23458713, -1.41537074, -0.42064532, -0.34271452, -0.80227727,\n",
       "        -0.16128571,  0.40405086,  1.8861859 ,  0.17457781,  0.25755039,\n",
       "        -0.07444592, -1.91877122]])"
      ]
     },
     "execution_count": 14,
     "metadata": {},
     "output_type": "execute_result"
    }
   ],
   "source": [
    "matrix = np.random.randn(5, 12)\n",
    "matrix"
   ]
  },
  {
   "cell_type": "code",
   "execution_count": 15,
   "id": "02bf9fc8",
   "metadata": {},
   "outputs": [
    {
     "data": {
      "text/plain": [
       "array([[-1.05771093, -0.676922  ,  0.61167629,  1.03099952,  0.93128012],\n",
       "       [-0.83921752, -0.30921238,  0.33126343,  0.97554513, -0.47917424],\n",
       "       [-0.18565898, -1.10633497, -1.19620662,  0.81252582,  1.35624003],\n",
       "       [-0.07201012,  1.0035329 ,  0.36163603, -0.64511975,  0.36139561],\n",
       "       [ 1.53803657, -0.03582604,  1.56464366, -2.6197451 ,  0.8219025 ],\n",
       "       [ 0.08704707, -0.29900735,  0.09176078, -1.98756891, -0.21967189],\n",
       "       [ 0.35711257,  1.47789404, -0.51827022, -0.8084936 , -0.50175704],\n",
       "       [ 0.91540212,  0.32875111, -0.5297602 ,  0.51326743,  0.09707755],\n",
       "       [ 0.96864499, -0.70205309, -0.32766215, -0.39210815, -1.46351495],\n",
       "       [ 0.29612028,  0.26105527,  0.00511346, -0.23458713, -1.41537074],\n",
       "       [-0.42064532, -0.34271452, -0.80227727, -0.16128571,  0.40405086],\n",
       "       [ 1.8861859 ,  0.17457781,  0.25755039, -0.07444592, -1.91877122]])"
      ]
     },
     "execution_count": 15,
     "metadata": {},
     "output_type": "execute_result"
    }
   ],
   "source": [
    "np.reshape(matrix, (12, 5))"
   ]
  },
  {
   "cell_type": "markdown",
   "id": "23f70d2e",
   "metadata": {},
   "source": [
    "#### Exercise 11"
   ]
  },
  {
   "cell_type": "code",
   "execution_count": 16,
   "id": "6f7c850e",
   "metadata": {},
   "outputs": [
    {
     "data": {
      "text/plain": [
       "array([1, 2, 0, 0, 4, 0])"
      ]
     },
     "execution_count": 16,
     "metadata": {},
     "output_type": "execute_result"
    }
   ],
   "source": [
    "l = [1, 2, 0, 0, 4, 0]\n",
    "array = np.array(l)\n",
    "array"
   ]
  },
  {
   "cell_type": "code",
   "execution_count": 17,
   "id": "84405a30",
   "metadata": {},
   "outputs": [
    {
     "data": {
      "text/plain": [
       "(array([0, 1, 4]),)"
      ]
     },
     "execution_count": 17,
     "metadata": {},
     "output_type": "execute_result"
    }
   ],
   "source": [
    "indices = np.where(array != 0)\n",
    "indices\n",
    "\n",
    "# Another way: np.nonzero(array)"
   ]
  },
  {
   "cell_type": "markdown",
   "id": "2633bf52",
   "metadata": {},
   "source": [
    "#### Exercise 12"
   ]
  },
  {
   "cell_type": "code",
   "execution_count": 18,
   "id": "57bb0011",
   "metadata": {},
   "outputs": [
    {
     "data": {
      "text/plain": [
       "array([  0, -10,   2,  -6, -30])"
      ]
     },
     "execution_count": 18,
     "metadata": {},
     "output_type": "execute_result"
    }
   ],
   "source": [
    "l = [0, 5, -1, 3, 15]\n",
    "array = np.asarray(l)\n",
    "array = array * -2\n",
    "\n",
    "even_numbers = array[array % 2 == 0]\n",
    "even_numbers"
   ]
  },
  {
   "cell_type": "markdown",
   "id": "af2f75ae",
   "metadata": {},
   "source": [
    "#### Exercise 13"
   ]
  },
  {
   "cell_type": "code",
   "execution_count": 19,
   "id": "e8b8c182",
   "metadata": {},
   "outputs": [
    {
     "data": {
      "text/plain": [
       "array([0.03688695, 0.05147875, 0.14489487, 0.23956189, 0.27864646,\n",
       "       0.28484049, 0.48945276, 0.50267902, 0.60956433, 0.90826589])"
      ]
     },
     "execution_count": 19,
     "metadata": {},
     "output_type": "execute_result"
    }
   ],
   "source": [
    "array = np.random.random_sample(10)\n",
    "array = np.sort(array)\n",
    "array\n",
    "\n",
    "# Another way: array.sort()"
   ]
  },
  {
   "cell_type": "markdown",
   "id": "4014663c",
   "metadata": {},
   "source": [
    "#### Exercise 14"
   ]
  },
  {
   "cell_type": "code",
   "execution_count": 20,
   "id": "e07067d7",
   "metadata": {},
   "outputs": [
    {
     "name": "stdout",
     "output_type": "stream",
     "text": [
      "Array 1: [5 6 3 6 7 0 5 7] \n",
      "Array 2: [4 3 1 5 5 0 8 5]\n",
      "Sum: [ 9  9  4 11 12  0 13 12] \n",
      "Subtraction: [ 1  3  2  1  2  0 -3  2] \n",
      "Product: [20 18  3 30 35  0 40 35]\n"
     ]
    }
   ],
   "source": [
    "array1 = np.random.randint(0, 10, 8)\n",
    "array2 = np.random.randint(0, 10, 8)\n",
    "print(f\"Array 1: {array1} \\nArray 2: {array2}\")\n",
    "\n",
    "# Sum\n",
    "arr_sum = array1 + array2\n",
    "\n",
    "# Subtraction\n",
    "arr_sub = array1 - array2\n",
    "\n",
    "# Product\n",
    "arr_prod = array1 * array2\n",
    "\n",
    "print(f\"Sum: {arr_sum} \\nSubtraction: {arr_sub} \\nProduct: {arr_prod}\")"
   ]
  },
  {
   "cell_type": "markdown",
   "id": "f84a0b80",
   "metadata": {},
   "source": [
    "#### Exercise 15"
   ]
  },
  {
   "cell_type": "code",
   "execution_count": 21,
   "id": "a64b314d",
   "metadata": {},
   "outputs": [
    {
     "data": {
      "text/plain": [
       "array([ 1,  2,  3,  4,  5,  6,  7,  8,  9, 10, 11, 12])"
      ]
     },
     "execution_count": 21,
     "metadata": {},
     "output_type": "execute_result"
    }
   ],
   "source": [
    "l = [1, 2, 3, 4, 5, 6, 7, 8, 9, 10, 11, 12]\n",
    "array = np.array(l)\n",
    "array"
   ]
  },
  {
   "cell_type": "code",
   "execution_count": 22,
   "id": "45f43249",
   "metadata": {},
   "outputs": [
    {
     "data": {
      "text/plain": [
       "array([[ 1,  2,  3],\n",
       "       [ 4,  5,  6],\n",
       "       [ 7,  8,  9],\n",
       "       [10, 11, 12]])"
      ]
     },
     "execution_count": 22,
     "metadata": {},
     "output_type": "execute_result"
    }
   ],
   "source": [
    "np.reshape(array, (4, 3))"
   ]
  }
 ],
 "metadata": {
  "kernelspec": {
   "display_name": "Python 3",
   "language": "python",
   "name": "python3"
  },
  "language_info": {
   "codemirror_mode": {
    "name": "ipython",
    "version": 3
   },
   "file_extension": ".py",
   "mimetype": "text/x-python",
   "name": "python",
   "nbconvert_exporter": "python",
   "pygments_lexer": "ipython3",
   "version": "3.12.1"
  }
 },
 "nbformat": 4,
 "nbformat_minor": 5
}
